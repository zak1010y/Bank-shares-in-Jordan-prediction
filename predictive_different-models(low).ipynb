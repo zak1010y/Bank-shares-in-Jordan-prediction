{
  "nbformat": 4,
  "nbformat_minor": 0,
  "metadata": {
    "colab": {
      "provenance": []
    },
    "kernelspec": {
      "name": "python3",
      "display_name": "Python 3"
    },
    "language_info": {
      "name": "python"
    }
  },
  "cells": [
    {
      "cell_type": "code",
      "execution_count": 1,
      "metadata": {
        "id": "YsXryyA5ILvM"
      },
      "outputs": [],
      "source": [
        "# Data processing \n",
        "import numpy as np\n",
        "import pandas as pd\n",
        "\n",
        "# Data visualization \n",
        "import matplotlib.pyplot as plt\n",
        "import seaborn as sns\n",
        "\n",
        "# Over sampling and under sampling \n",
        "from imblearn.over_sampling import RandomOverSampler, SMOTE\n",
        "from imblearn.under_sampling import RandomUnderSampler, NearMiss\n",
        "from collections import Counter \n",
        "\n",
        "# For evaluating the model\n",
        "from sklearn.metrics import accuracy_score\n",
        "from sklearn.metrics import recall_score\n",
        "from sklearn.metrics import precision_score\n",
        "\n",
        "# Model and performance\n",
        "from sklearn.model_selection import train_test_split\n",
        "from sklearn.ensemble import RandomForestClassifier\n",
        "from sklearn.metrics import classification_report\n",
        "from sklearn.linear_model import LinearRegression\n",
        "from sklearn.model_selection import train_test_split\n",
        "from sklearn.metrics import mean_absolute_error, mean_squared_error, r2_score"
      ]
    },
    {
      "cell_type": "code",
      "source": [
        "Low_pr = pd.read_csv('/content/drive/MyDrive/data analytics/final project/low.csv')\n",
        "Low_pr.head()"
      ],
      "metadata": {
        "colab": {
          "base_uri": "https://localhost:8080/",
          "height": 206
        },
        "id": "ivi6MHvJIcZH",
        "outputId": "618456ed-788e-4b1a-e2dd-d0f9d4ed6873"
      },
      "execution_count": 2,
      "outputs": [
        {
          "output_type": "execute_result",
          "data": {
            "text/plain": [
              "   TRADE_DATE  SEC_CODE SYMBOL1  MARKET     VOLUME  TRADE_QTY  NO_OF_TRADES  \\\n",
              "0  01/02/2022    111001    JOIB       1  199083.73      54378            73   \n",
              "1  01/02/2022    111002    JOKB       1   12707.76       9009            17   \n",
              "2  01/02/2022    111003    JCBK       2     727.41        726             7   \n",
              "3  01/02/2022    111004    THBK       1    1558.10        394             5   \n",
              "4  01/02/2022    111006    SIBK       1   29030.98      14867            11   \n",
              "\n",
              "    LOW  BEST_ASK_PRICE  BEST_ASK_QTY  BEST_BID_PRICE  BEST_BID_QTY  \n",
              "0  3.65            2.65         585.0            3.13        2000.0  \n",
              "1  1.41            1.36         493.0            1.86        1570.0  \n",
              "2  1.00            1.14        1853.0            1.64        1000.0  \n",
              "3  3.95            1.09         660.0            1.59          46.0  \n",
              "4  1.95            1.23        1000.0            1.73         333.0  "
            ],
            "text/html": [
              "\n",
              "  <div id=\"df-8d2cc251-fa63-41b4-8f76-7789fc79dc9d\">\n",
              "    <div class=\"colab-df-container\">\n",
              "      <div>\n",
              "<style scoped>\n",
              "    .dataframe tbody tr th:only-of-type {\n",
              "        vertical-align: middle;\n",
              "    }\n",
              "\n",
              "    .dataframe tbody tr th {\n",
              "        vertical-align: top;\n",
              "    }\n",
              "\n",
              "    .dataframe thead th {\n",
              "        text-align: right;\n",
              "    }\n",
              "</style>\n",
              "<table border=\"1\" class=\"dataframe\">\n",
              "  <thead>\n",
              "    <tr style=\"text-align: right;\">\n",
              "      <th></th>\n",
              "      <th>TRADE_DATE</th>\n",
              "      <th>SEC_CODE</th>\n",
              "      <th>SYMBOL1</th>\n",
              "      <th>MARKET</th>\n",
              "      <th>VOLUME</th>\n",
              "      <th>TRADE_QTY</th>\n",
              "      <th>NO_OF_TRADES</th>\n",
              "      <th>LOW</th>\n",
              "      <th>BEST_ASK_PRICE</th>\n",
              "      <th>BEST_ASK_QTY</th>\n",
              "      <th>BEST_BID_PRICE</th>\n",
              "      <th>BEST_BID_QTY</th>\n",
              "    </tr>\n",
              "  </thead>\n",
              "  <tbody>\n",
              "    <tr>\n",
              "      <th>0</th>\n",
              "      <td>01/02/2022</td>\n",
              "      <td>111001</td>\n",
              "      <td>JOIB</td>\n",
              "      <td>1</td>\n",
              "      <td>199083.73</td>\n",
              "      <td>54378</td>\n",
              "      <td>73</td>\n",
              "      <td>3.65</td>\n",
              "      <td>2.65</td>\n",
              "      <td>585.0</td>\n",
              "      <td>3.13</td>\n",
              "      <td>2000.0</td>\n",
              "    </tr>\n",
              "    <tr>\n",
              "      <th>1</th>\n",
              "      <td>01/02/2022</td>\n",
              "      <td>111002</td>\n",
              "      <td>JOKB</td>\n",
              "      <td>1</td>\n",
              "      <td>12707.76</td>\n",
              "      <td>9009</td>\n",
              "      <td>17</td>\n",
              "      <td>1.41</td>\n",
              "      <td>1.36</td>\n",
              "      <td>493.0</td>\n",
              "      <td>1.86</td>\n",
              "      <td>1570.0</td>\n",
              "    </tr>\n",
              "    <tr>\n",
              "      <th>2</th>\n",
              "      <td>01/02/2022</td>\n",
              "      <td>111003</td>\n",
              "      <td>JCBK</td>\n",
              "      <td>2</td>\n",
              "      <td>727.41</td>\n",
              "      <td>726</td>\n",
              "      <td>7</td>\n",
              "      <td>1.00</td>\n",
              "      <td>1.14</td>\n",
              "      <td>1853.0</td>\n",
              "      <td>1.64</td>\n",
              "      <td>1000.0</td>\n",
              "    </tr>\n",
              "    <tr>\n",
              "      <th>3</th>\n",
              "      <td>01/02/2022</td>\n",
              "      <td>111004</td>\n",
              "      <td>THBK</td>\n",
              "      <td>1</td>\n",
              "      <td>1558.10</td>\n",
              "      <td>394</td>\n",
              "      <td>5</td>\n",
              "      <td>3.95</td>\n",
              "      <td>1.09</td>\n",
              "      <td>660.0</td>\n",
              "      <td>1.59</td>\n",
              "      <td>46.0</td>\n",
              "    </tr>\n",
              "    <tr>\n",
              "      <th>4</th>\n",
              "      <td>01/02/2022</td>\n",
              "      <td>111006</td>\n",
              "      <td>SIBK</td>\n",
              "      <td>1</td>\n",
              "      <td>29030.98</td>\n",
              "      <td>14867</td>\n",
              "      <td>11</td>\n",
              "      <td>1.95</td>\n",
              "      <td>1.23</td>\n",
              "      <td>1000.0</td>\n",
              "      <td>1.73</td>\n",
              "      <td>333.0</td>\n",
              "    </tr>\n",
              "  </tbody>\n",
              "</table>\n",
              "</div>\n",
              "      <button class=\"colab-df-convert\" onclick=\"convertToInteractive('df-8d2cc251-fa63-41b4-8f76-7789fc79dc9d')\"\n",
              "              title=\"Convert this dataframe to an interactive table.\"\n",
              "              style=\"display:none;\">\n",
              "        \n",
              "  <svg xmlns=\"http://www.w3.org/2000/svg\" height=\"24px\"viewBox=\"0 0 24 24\"\n",
              "       width=\"24px\">\n",
              "    <path d=\"M0 0h24v24H0V0z\" fill=\"none\"/>\n",
              "    <path d=\"M18.56 5.44l.94 2.06.94-2.06 2.06-.94-2.06-.94-.94-2.06-.94 2.06-2.06.94zm-11 1L8.5 8.5l.94-2.06 2.06-.94-2.06-.94L8.5 2.5l-.94 2.06-2.06.94zm10 10l.94 2.06.94-2.06 2.06-.94-2.06-.94-.94-2.06-.94 2.06-2.06.94z\"/><path d=\"M17.41 7.96l-1.37-1.37c-.4-.4-.92-.59-1.43-.59-.52 0-1.04.2-1.43.59L10.3 9.45l-7.72 7.72c-.78.78-.78 2.05 0 2.83L4 21.41c.39.39.9.59 1.41.59.51 0 1.02-.2 1.41-.59l7.78-7.78 2.81-2.81c.8-.78.8-2.07 0-2.86zM5.41 20L4 18.59l7.72-7.72 1.47 1.35L5.41 20z\"/>\n",
              "  </svg>\n",
              "      </button>\n",
              "      \n",
              "  <style>\n",
              "    .colab-df-container {\n",
              "      display:flex;\n",
              "      flex-wrap:wrap;\n",
              "      gap: 12px;\n",
              "    }\n",
              "\n",
              "    .colab-df-convert {\n",
              "      background-color: #E8F0FE;\n",
              "      border: none;\n",
              "      border-radius: 50%;\n",
              "      cursor: pointer;\n",
              "      display: none;\n",
              "      fill: #1967D2;\n",
              "      height: 32px;\n",
              "      padding: 0 0 0 0;\n",
              "      width: 32px;\n",
              "    }\n",
              "\n",
              "    .colab-df-convert:hover {\n",
              "      background-color: #E2EBFA;\n",
              "      box-shadow: 0px 1px 2px rgba(60, 64, 67, 0.3), 0px 1px 3px 1px rgba(60, 64, 67, 0.15);\n",
              "      fill: #174EA6;\n",
              "    }\n",
              "\n",
              "    [theme=dark] .colab-df-convert {\n",
              "      background-color: #3B4455;\n",
              "      fill: #D2E3FC;\n",
              "    }\n",
              "\n",
              "    [theme=dark] .colab-df-convert:hover {\n",
              "      background-color: #434B5C;\n",
              "      box-shadow: 0px 1px 3px 1px rgba(0, 0, 0, 0.15);\n",
              "      filter: drop-shadow(0px 1px 2px rgba(0, 0, 0, 0.3));\n",
              "      fill: #FFFFFF;\n",
              "    }\n",
              "  </style>\n",
              "\n",
              "      <script>\n",
              "        const buttonEl =\n",
              "          document.querySelector('#df-8d2cc251-fa63-41b4-8f76-7789fc79dc9d button.colab-df-convert');\n",
              "        buttonEl.style.display =\n",
              "          google.colab.kernel.accessAllowed ? 'block' : 'none';\n",
              "\n",
              "        async function convertToInteractive(key) {\n",
              "          const element = document.querySelector('#df-8d2cc251-fa63-41b4-8f76-7789fc79dc9d');\n",
              "          const dataTable =\n",
              "            await google.colab.kernel.invokeFunction('convertToInteractive',\n",
              "                                                     [key], {});\n",
              "          if (!dataTable) return;\n",
              "\n",
              "          const docLinkHtml = 'Like what you see? Visit the ' +\n",
              "            '<a target=\"_blank\" href=https://colab.research.google.com/notebooks/data_table.ipynb>data table notebook</a>'\n",
              "            + ' to learn more about interactive tables.';\n",
              "          element.innerHTML = '';\n",
              "          dataTable['output_type'] = 'display_data';\n",
              "          await google.colab.output.renderOutput(dataTable, element);\n",
              "          const docLink = document.createElement('div');\n",
              "          docLink.innerHTML = docLinkHtml;\n",
              "          element.appendChild(docLink);\n",
              "        }\n",
              "      </script>\n",
              "    </div>\n",
              "  </div>\n",
              "  "
            ]
          },
          "metadata": {},
          "execution_count": 2
        }
      ]
    },
    {
      "cell_type": "code",
      "source": [
        "Low_pr = Low_pr.drop(['SYMBOL1', 'TRADE_DATE', 'SEC_CODE'], axis=1)\n",
        "Low_pr.head()"
      ],
      "metadata": {
        "colab": {
          "base_uri": "https://localhost:8080/",
          "height": 206
        },
        "id": "tmPZViS0Iiaf",
        "outputId": "5d509202-700e-4b6c-cc5b-4023dfb0c876"
      },
      "execution_count": 4,
      "outputs": [
        {
          "output_type": "execute_result",
          "data": {
            "text/plain": [
              "   MARKET     VOLUME  TRADE_QTY  NO_OF_TRADES   LOW  BEST_ASK_PRICE  \\\n",
              "0       1  199083.73      54378            73  3.65            2.65   \n",
              "1       1   12707.76       9009            17  1.41            1.36   \n",
              "2       2     727.41        726             7  1.00            1.14   \n",
              "3       1    1558.10        394             5  3.95            1.09   \n",
              "4       1   29030.98      14867            11  1.95            1.23   \n",
              "\n",
              "   BEST_ASK_QTY  BEST_BID_PRICE  BEST_BID_QTY  \n",
              "0         585.0            3.13        2000.0  \n",
              "1         493.0            1.86        1570.0  \n",
              "2        1853.0            1.64        1000.0  \n",
              "3         660.0            1.59          46.0  \n",
              "4        1000.0            1.73         333.0  "
            ],
            "text/html": [
              "\n",
              "  <div id=\"df-6f16399a-c683-426b-b495-e8c5f615b051\">\n",
              "    <div class=\"colab-df-container\">\n",
              "      <div>\n",
              "<style scoped>\n",
              "    .dataframe tbody tr th:only-of-type {\n",
              "        vertical-align: middle;\n",
              "    }\n",
              "\n",
              "    .dataframe tbody tr th {\n",
              "        vertical-align: top;\n",
              "    }\n",
              "\n",
              "    .dataframe thead th {\n",
              "        text-align: right;\n",
              "    }\n",
              "</style>\n",
              "<table border=\"1\" class=\"dataframe\">\n",
              "  <thead>\n",
              "    <tr style=\"text-align: right;\">\n",
              "      <th></th>\n",
              "      <th>MARKET</th>\n",
              "      <th>VOLUME</th>\n",
              "      <th>TRADE_QTY</th>\n",
              "      <th>NO_OF_TRADES</th>\n",
              "      <th>LOW</th>\n",
              "      <th>BEST_ASK_PRICE</th>\n",
              "      <th>BEST_ASK_QTY</th>\n",
              "      <th>BEST_BID_PRICE</th>\n",
              "      <th>BEST_BID_QTY</th>\n",
              "    </tr>\n",
              "  </thead>\n",
              "  <tbody>\n",
              "    <tr>\n",
              "      <th>0</th>\n",
              "      <td>1</td>\n",
              "      <td>199083.73</td>\n",
              "      <td>54378</td>\n",
              "      <td>73</td>\n",
              "      <td>3.65</td>\n",
              "      <td>2.65</td>\n",
              "      <td>585.0</td>\n",
              "      <td>3.13</td>\n",
              "      <td>2000.0</td>\n",
              "    </tr>\n",
              "    <tr>\n",
              "      <th>1</th>\n",
              "      <td>1</td>\n",
              "      <td>12707.76</td>\n",
              "      <td>9009</td>\n",
              "      <td>17</td>\n",
              "      <td>1.41</td>\n",
              "      <td>1.36</td>\n",
              "      <td>493.0</td>\n",
              "      <td>1.86</td>\n",
              "      <td>1570.0</td>\n",
              "    </tr>\n",
              "    <tr>\n",
              "      <th>2</th>\n",
              "      <td>2</td>\n",
              "      <td>727.41</td>\n",
              "      <td>726</td>\n",
              "      <td>7</td>\n",
              "      <td>1.00</td>\n",
              "      <td>1.14</td>\n",
              "      <td>1853.0</td>\n",
              "      <td>1.64</td>\n",
              "      <td>1000.0</td>\n",
              "    </tr>\n",
              "    <tr>\n",
              "      <th>3</th>\n",
              "      <td>1</td>\n",
              "      <td>1558.10</td>\n",
              "      <td>394</td>\n",
              "      <td>5</td>\n",
              "      <td>3.95</td>\n",
              "      <td>1.09</td>\n",
              "      <td>660.0</td>\n",
              "      <td>1.59</td>\n",
              "      <td>46.0</td>\n",
              "    </tr>\n",
              "    <tr>\n",
              "      <th>4</th>\n",
              "      <td>1</td>\n",
              "      <td>29030.98</td>\n",
              "      <td>14867</td>\n",
              "      <td>11</td>\n",
              "      <td>1.95</td>\n",
              "      <td>1.23</td>\n",
              "      <td>1000.0</td>\n",
              "      <td>1.73</td>\n",
              "      <td>333.0</td>\n",
              "    </tr>\n",
              "  </tbody>\n",
              "</table>\n",
              "</div>\n",
              "      <button class=\"colab-df-convert\" onclick=\"convertToInteractive('df-6f16399a-c683-426b-b495-e8c5f615b051')\"\n",
              "              title=\"Convert this dataframe to an interactive table.\"\n",
              "              style=\"display:none;\">\n",
              "        \n",
              "  <svg xmlns=\"http://www.w3.org/2000/svg\" height=\"24px\"viewBox=\"0 0 24 24\"\n",
              "       width=\"24px\">\n",
              "    <path d=\"M0 0h24v24H0V0z\" fill=\"none\"/>\n",
              "    <path d=\"M18.56 5.44l.94 2.06.94-2.06 2.06-.94-2.06-.94-.94-2.06-.94 2.06-2.06.94zm-11 1L8.5 8.5l.94-2.06 2.06-.94-2.06-.94L8.5 2.5l-.94 2.06-2.06.94zm10 10l.94 2.06.94-2.06 2.06-.94-2.06-.94-.94-2.06-.94 2.06-2.06.94z\"/><path d=\"M17.41 7.96l-1.37-1.37c-.4-.4-.92-.59-1.43-.59-.52 0-1.04.2-1.43.59L10.3 9.45l-7.72 7.72c-.78.78-.78 2.05 0 2.83L4 21.41c.39.39.9.59 1.41.59.51 0 1.02-.2 1.41-.59l7.78-7.78 2.81-2.81c.8-.78.8-2.07 0-2.86zM5.41 20L4 18.59l7.72-7.72 1.47 1.35L5.41 20z\"/>\n",
              "  </svg>\n",
              "      </button>\n",
              "      \n",
              "  <style>\n",
              "    .colab-df-container {\n",
              "      display:flex;\n",
              "      flex-wrap:wrap;\n",
              "      gap: 12px;\n",
              "    }\n",
              "\n",
              "    .colab-df-convert {\n",
              "      background-color: #E8F0FE;\n",
              "      border: none;\n",
              "      border-radius: 50%;\n",
              "      cursor: pointer;\n",
              "      display: none;\n",
              "      fill: #1967D2;\n",
              "      height: 32px;\n",
              "      padding: 0 0 0 0;\n",
              "      width: 32px;\n",
              "    }\n",
              "\n",
              "    .colab-df-convert:hover {\n",
              "      background-color: #E2EBFA;\n",
              "      box-shadow: 0px 1px 2px rgba(60, 64, 67, 0.3), 0px 1px 3px 1px rgba(60, 64, 67, 0.15);\n",
              "      fill: #174EA6;\n",
              "    }\n",
              "\n",
              "    [theme=dark] .colab-df-convert {\n",
              "      background-color: #3B4455;\n",
              "      fill: #D2E3FC;\n",
              "    }\n",
              "\n",
              "    [theme=dark] .colab-df-convert:hover {\n",
              "      background-color: #434B5C;\n",
              "      box-shadow: 0px 1px 3px 1px rgba(0, 0, 0, 0.15);\n",
              "      filter: drop-shadow(0px 1px 2px rgba(0, 0, 0, 0.3));\n",
              "      fill: #FFFFFF;\n",
              "    }\n",
              "  </style>\n",
              "\n",
              "      <script>\n",
              "        const buttonEl =\n",
              "          document.querySelector('#df-6f16399a-c683-426b-b495-e8c5f615b051 button.colab-df-convert');\n",
              "        buttonEl.style.display =\n",
              "          google.colab.kernel.accessAllowed ? 'block' : 'none';\n",
              "\n",
              "        async function convertToInteractive(key) {\n",
              "          const element = document.querySelector('#df-6f16399a-c683-426b-b495-e8c5f615b051');\n",
              "          const dataTable =\n",
              "            await google.colab.kernel.invokeFunction('convertToInteractive',\n",
              "                                                     [key], {});\n",
              "          if (!dataTable) return;\n",
              "\n",
              "          const docLinkHtml = 'Like what you see? Visit the ' +\n",
              "            '<a target=\"_blank\" href=https://colab.research.google.com/notebooks/data_table.ipynb>data table notebook</a>'\n",
              "            + ' to learn more about interactive tables.';\n",
              "          element.innerHTML = '';\n",
              "          dataTable['output_type'] = 'display_data';\n",
              "          await google.colab.output.renderOutput(dataTable, element);\n",
              "          const docLink = document.createElement('div');\n",
              "          docLink.innerHTML = docLinkHtml;\n",
              "          element.appendChild(docLink);\n",
              "        }\n",
              "      </script>\n",
              "    </div>\n",
              "  </div>\n",
              "  "
            ]
          },
          "metadata": {},
          "execution_count": 4
        }
      ]
    },
    {
      "cell_type": "code",
      "source": [
        "Low_pr_corr = Low_pr.corr()\n",
        "Low_pr_corr"
      ],
      "metadata": {
        "colab": {
          "base_uri": "https://localhost:8080/",
          "height": 331
        },
        "id": "LvUfFdUsIj6v",
        "outputId": "22f7fa05-b18c-4d88-ec40-aad3e72af1b8"
      },
      "execution_count": 5,
      "outputs": [
        {
          "output_type": "execute_result",
          "data": {
            "text/plain": [
              "                  MARKET    VOLUME  TRADE_QTY  NO_OF_TRADES       LOW  \\\n",
              "MARKET          1.000000 -0.034048   0.045583      0.001102 -0.089948   \n",
              "VOLUME         -0.034048  1.000000   0.620277      0.777427  0.304766   \n",
              "TRADE_QTY       0.045583  0.620277   1.000000      0.449219 -0.014457   \n",
              "NO_OF_TRADES    0.001102  0.777427   0.449219      1.000000  0.283693   \n",
              "LOW            -0.089948  0.304766  -0.014457      0.283693  1.000000   \n",
              "BEST_ASK_PRICE  0.001116  0.777378   0.449198      0.999997  0.283831   \n",
              "BEST_ASK_QTY   -0.099576 -0.026209   0.080231     -0.020228 -0.086282   \n",
              "BEST_BID_PRICE  0.001093  0.777434   0.449170      0.999998  0.283850   \n",
              "BEST_BID_QTY   -0.089226 -0.011380   0.075985      0.001323 -0.070707   \n",
              "\n",
              "                BEST_ASK_PRICE  BEST_ASK_QTY  BEST_BID_PRICE  BEST_BID_QTY  \n",
              "MARKET                0.001116     -0.099576        0.001093     -0.089226  \n",
              "VOLUME                0.777378     -0.026209        0.777434     -0.011380  \n",
              "TRADE_QTY             0.449198      0.080231        0.449170      0.075985  \n",
              "NO_OF_TRADES          0.999997     -0.020228        0.999998      0.001323  \n",
              "LOW                   0.283831     -0.086282        0.283850     -0.070707  \n",
              "BEST_ASK_PRICE        1.000000     -0.020253        0.999999      0.001313  \n",
              "BEST_ASK_QTY         -0.020253      1.000000       -0.020260      0.271098  \n",
              "BEST_BID_PRICE        0.999999     -0.020260        1.000000      0.001308  \n",
              "BEST_BID_QTY          0.001313      0.271098        0.001308      1.000000  "
            ],
            "text/html": [
              "\n",
              "  <div id=\"df-c4d6085d-6a3f-40cd-971a-4c4436247ddd\">\n",
              "    <div class=\"colab-df-container\">\n",
              "      <div>\n",
              "<style scoped>\n",
              "    .dataframe tbody tr th:only-of-type {\n",
              "        vertical-align: middle;\n",
              "    }\n",
              "\n",
              "    .dataframe tbody tr th {\n",
              "        vertical-align: top;\n",
              "    }\n",
              "\n",
              "    .dataframe thead th {\n",
              "        text-align: right;\n",
              "    }\n",
              "</style>\n",
              "<table border=\"1\" class=\"dataframe\">\n",
              "  <thead>\n",
              "    <tr style=\"text-align: right;\">\n",
              "      <th></th>\n",
              "      <th>MARKET</th>\n",
              "      <th>VOLUME</th>\n",
              "      <th>TRADE_QTY</th>\n",
              "      <th>NO_OF_TRADES</th>\n",
              "      <th>LOW</th>\n",
              "      <th>BEST_ASK_PRICE</th>\n",
              "      <th>BEST_ASK_QTY</th>\n",
              "      <th>BEST_BID_PRICE</th>\n",
              "      <th>BEST_BID_QTY</th>\n",
              "    </tr>\n",
              "  </thead>\n",
              "  <tbody>\n",
              "    <tr>\n",
              "      <th>MARKET</th>\n",
              "      <td>1.000000</td>\n",
              "      <td>-0.034048</td>\n",
              "      <td>0.045583</td>\n",
              "      <td>0.001102</td>\n",
              "      <td>-0.089948</td>\n",
              "      <td>0.001116</td>\n",
              "      <td>-0.099576</td>\n",
              "      <td>0.001093</td>\n",
              "      <td>-0.089226</td>\n",
              "    </tr>\n",
              "    <tr>\n",
              "      <th>VOLUME</th>\n",
              "      <td>-0.034048</td>\n",
              "      <td>1.000000</td>\n",
              "      <td>0.620277</td>\n",
              "      <td>0.777427</td>\n",
              "      <td>0.304766</td>\n",
              "      <td>0.777378</td>\n",
              "      <td>-0.026209</td>\n",
              "      <td>0.777434</td>\n",
              "      <td>-0.011380</td>\n",
              "    </tr>\n",
              "    <tr>\n",
              "      <th>TRADE_QTY</th>\n",
              "      <td>0.045583</td>\n",
              "      <td>0.620277</td>\n",
              "      <td>1.000000</td>\n",
              "      <td>0.449219</td>\n",
              "      <td>-0.014457</td>\n",
              "      <td>0.449198</td>\n",
              "      <td>0.080231</td>\n",
              "      <td>0.449170</td>\n",
              "      <td>0.075985</td>\n",
              "    </tr>\n",
              "    <tr>\n",
              "      <th>NO_OF_TRADES</th>\n",
              "      <td>0.001102</td>\n",
              "      <td>0.777427</td>\n",
              "      <td>0.449219</td>\n",
              "      <td>1.000000</td>\n",
              "      <td>0.283693</td>\n",
              "      <td>0.999997</td>\n",
              "      <td>-0.020228</td>\n",
              "      <td>0.999998</td>\n",
              "      <td>0.001323</td>\n",
              "    </tr>\n",
              "    <tr>\n",
              "      <th>LOW</th>\n",
              "      <td>-0.089948</td>\n",
              "      <td>0.304766</td>\n",
              "      <td>-0.014457</td>\n",
              "      <td>0.283693</td>\n",
              "      <td>1.000000</td>\n",
              "      <td>0.283831</td>\n",
              "      <td>-0.086282</td>\n",
              "      <td>0.283850</td>\n",
              "      <td>-0.070707</td>\n",
              "    </tr>\n",
              "    <tr>\n",
              "      <th>BEST_ASK_PRICE</th>\n",
              "      <td>0.001116</td>\n",
              "      <td>0.777378</td>\n",
              "      <td>0.449198</td>\n",
              "      <td>0.999997</td>\n",
              "      <td>0.283831</td>\n",
              "      <td>1.000000</td>\n",
              "      <td>-0.020253</td>\n",
              "      <td>0.999999</td>\n",
              "      <td>0.001313</td>\n",
              "    </tr>\n",
              "    <tr>\n",
              "      <th>BEST_ASK_QTY</th>\n",
              "      <td>-0.099576</td>\n",
              "      <td>-0.026209</td>\n",
              "      <td>0.080231</td>\n",
              "      <td>-0.020228</td>\n",
              "      <td>-0.086282</td>\n",
              "      <td>-0.020253</td>\n",
              "      <td>1.000000</td>\n",
              "      <td>-0.020260</td>\n",
              "      <td>0.271098</td>\n",
              "    </tr>\n",
              "    <tr>\n",
              "      <th>BEST_BID_PRICE</th>\n",
              "      <td>0.001093</td>\n",
              "      <td>0.777434</td>\n",
              "      <td>0.449170</td>\n",
              "      <td>0.999998</td>\n",
              "      <td>0.283850</td>\n",
              "      <td>0.999999</td>\n",
              "      <td>-0.020260</td>\n",
              "      <td>1.000000</td>\n",
              "      <td>0.001308</td>\n",
              "    </tr>\n",
              "    <tr>\n",
              "      <th>BEST_BID_QTY</th>\n",
              "      <td>-0.089226</td>\n",
              "      <td>-0.011380</td>\n",
              "      <td>0.075985</td>\n",
              "      <td>0.001323</td>\n",
              "      <td>-0.070707</td>\n",
              "      <td>0.001313</td>\n",
              "      <td>0.271098</td>\n",
              "      <td>0.001308</td>\n",
              "      <td>1.000000</td>\n",
              "    </tr>\n",
              "  </tbody>\n",
              "</table>\n",
              "</div>\n",
              "      <button class=\"colab-df-convert\" onclick=\"convertToInteractive('df-c4d6085d-6a3f-40cd-971a-4c4436247ddd')\"\n",
              "              title=\"Convert this dataframe to an interactive table.\"\n",
              "              style=\"display:none;\">\n",
              "        \n",
              "  <svg xmlns=\"http://www.w3.org/2000/svg\" height=\"24px\"viewBox=\"0 0 24 24\"\n",
              "       width=\"24px\">\n",
              "    <path d=\"M0 0h24v24H0V0z\" fill=\"none\"/>\n",
              "    <path d=\"M18.56 5.44l.94 2.06.94-2.06 2.06-.94-2.06-.94-.94-2.06-.94 2.06-2.06.94zm-11 1L8.5 8.5l.94-2.06 2.06-.94-2.06-.94L8.5 2.5l-.94 2.06-2.06.94zm10 10l.94 2.06.94-2.06 2.06-.94-2.06-.94-.94-2.06-.94 2.06-2.06.94z\"/><path d=\"M17.41 7.96l-1.37-1.37c-.4-.4-.92-.59-1.43-.59-.52 0-1.04.2-1.43.59L10.3 9.45l-7.72 7.72c-.78.78-.78 2.05 0 2.83L4 21.41c.39.39.9.59 1.41.59.51 0 1.02-.2 1.41-.59l7.78-7.78 2.81-2.81c.8-.78.8-2.07 0-2.86zM5.41 20L4 18.59l7.72-7.72 1.47 1.35L5.41 20z\"/>\n",
              "  </svg>\n",
              "      </button>\n",
              "      \n",
              "  <style>\n",
              "    .colab-df-container {\n",
              "      display:flex;\n",
              "      flex-wrap:wrap;\n",
              "      gap: 12px;\n",
              "    }\n",
              "\n",
              "    .colab-df-convert {\n",
              "      background-color: #E8F0FE;\n",
              "      border: none;\n",
              "      border-radius: 50%;\n",
              "      cursor: pointer;\n",
              "      display: none;\n",
              "      fill: #1967D2;\n",
              "      height: 32px;\n",
              "      padding: 0 0 0 0;\n",
              "      width: 32px;\n",
              "    }\n",
              "\n",
              "    .colab-df-convert:hover {\n",
              "      background-color: #E2EBFA;\n",
              "      box-shadow: 0px 1px 2px rgba(60, 64, 67, 0.3), 0px 1px 3px 1px rgba(60, 64, 67, 0.15);\n",
              "      fill: #174EA6;\n",
              "    }\n",
              "\n",
              "    [theme=dark] .colab-df-convert {\n",
              "      background-color: #3B4455;\n",
              "      fill: #D2E3FC;\n",
              "    }\n",
              "\n",
              "    [theme=dark] .colab-df-convert:hover {\n",
              "      background-color: #434B5C;\n",
              "      box-shadow: 0px 1px 3px 1px rgba(0, 0, 0, 0.15);\n",
              "      filter: drop-shadow(0px 1px 2px rgba(0, 0, 0, 0.3));\n",
              "      fill: #FFFFFF;\n",
              "    }\n",
              "  </style>\n",
              "\n",
              "      <script>\n",
              "        const buttonEl =\n",
              "          document.querySelector('#df-c4d6085d-6a3f-40cd-971a-4c4436247ddd button.colab-df-convert');\n",
              "        buttonEl.style.display =\n",
              "          google.colab.kernel.accessAllowed ? 'block' : 'none';\n",
              "\n",
              "        async function convertToInteractive(key) {\n",
              "          const element = document.querySelector('#df-c4d6085d-6a3f-40cd-971a-4c4436247ddd');\n",
              "          const dataTable =\n",
              "            await google.colab.kernel.invokeFunction('convertToInteractive',\n",
              "                                                     [key], {});\n",
              "          if (!dataTable) return;\n",
              "\n",
              "          const docLinkHtml = 'Like what you see? Visit the ' +\n",
              "            '<a target=\"_blank\" href=https://colab.research.google.com/notebooks/data_table.ipynb>data table notebook</a>'\n",
              "            + ' to learn more about interactive tables.';\n",
              "          element.innerHTML = '';\n",
              "          dataTable['output_type'] = 'display_data';\n",
              "          await google.colab.output.renderOutput(dataTable, element);\n",
              "          const docLink = document.createElement('div');\n",
              "          docLink.innerHTML = docLinkHtml;\n",
              "          element.appendChild(docLink);\n",
              "        }\n",
              "      </script>\n",
              "    </div>\n",
              "  </div>\n",
              "  "
            ]
          },
          "metadata": {},
          "execution_count": 5
        }
      ]
    },
    {
      "cell_type": "code",
      "source": [
        "sns.heatmap(data=Low_pr_corr)"
      ],
      "metadata": {
        "colab": {
          "base_uri": "https://localhost:8080/",
          "height": 557
        },
        "id": "ed_xznTHIlJH",
        "outputId": "bbb1137a-e544-4dc2-bf69-29b6b0043b79"
      },
      "execution_count": 6,
      "outputs": [
        {
          "output_type": "execute_result",
          "data": {
            "text/plain": [
              "<Axes: >"
            ]
          },
          "metadata": {},
          "execution_count": 6
        },
        {
          "output_type": "display_data",
          "data": {
            "text/plain": [
              "<Figure size 640x480 with 2 Axes>"
            ],
            "image/png": "[encoded data removed]"
          },
          "metadata": {}
        }
      ]
    },
    {
      "cell_type": "code",
      "source": [
        "Low_pr.isnull().sum()"
      ],
      "metadata": {
        "colab": {
          "base_uri": "https://localhost:8080/"
        },
        "id": "z6A5jb3UImRf",
        "outputId": "624abf6b-bdbd-4b32-a18a-c72b0e42d1bc"
      },
      "execution_count": 7,
      "outputs": [
        {
          "output_type": "execute_result",
          "data": {
            "text/plain": [
              "MARKET            0\n",
              "VOLUME            0\n",
              "TRADE_QTY         0\n",
              "NO_OF_TRADES      0\n",
              "LOW               0\n",
              "BEST_ASK_PRICE    0\n",
              "BEST_ASK_QTY      0\n",
              "BEST_BID_PRICE    0\n",
              "BEST_BID_QTY      0\n",
              "dtype: int64"
            ]
          },
          "metadata": {},
          "execution_count": 7
        }
      ]
    },
    {
      "cell_type": "code",
      "source": [
        "X = Low_pr.drop(['LOW'], axis=1)\n",
        "\n",
        "y = Low_pr['LOW']"
      ],
      "metadata": {
        "id": "xnUHhOe5Injv"
      },
      "execution_count": 9,
      "outputs": []
    },
    {
      "cell_type": "code",
      "source": [
        "# splitting the data into testing and training\n",
        "X_train, X_test, y_train, y_test = train_test_split(X, y, test_size=0.1, random_state=0)"
      ],
      "metadata": {
        "id": "C7uI8JtFIosJ"
      },
      "execution_count": 10,
      "outputs": []
    },
    {
      "cell_type": "code",
      "source": [
        "regression = LinearRegression()\n",
        "regression.fit(X_train, y_train)"
      ],
      "metadata": {
        "colab": {
          "base_uri": "https://localhost:8080/",
          "height": 74
        },
        "id": "NRxLLE8RIp8P",
        "outputId": "288ca919-4df6-4aa4-b226-325e90463fd9"
      },
      "execution_count": 11,
      "outputs": [
        {
          "output_type": "execute_result",
          "data": {
            "text/plain": [
              "LinearRegression()"
            ],
            "text/html": [
              "<style>#sk-container-id-1 {color: black;background-color: white;}#sk-container-id-1 pre{padding: 0;}#sk-container-id-1 div.sk-toggleable {background-color: white;}#sk-container-id-1 label.sk-toggleable__label {cursor: pointer;display: block;width: 100%;margin-bottom: 0;padding: 0.3em;box-sizing: border-box;text-align: center;}#sk-container-id-1 label.sk-toggleable__label-arrow:before {content: \"▸\";float: left;margin-right: 0.25em;color: #696969;}#sk-container-id-1 label.sk-toggleable__label-arrow:hover:before {color: black;}#sk-container-id-1 div.sk-estimator:hover label.sk-toggleable__label-arrow:before {color: black;}#sk-container-id-1 div.sk-toggleable__content {max-height: 0;max-width: 0;overflow: hidden;text-align: left;background-color: #f0f8ff;}#sk-container-id-1 div.sk-toggleable__content pre {margin: 0.2em;color: black;border-radius: 0.25em;background-color: #f0f8ff;}#sk-container-id-1 input.sk-toggleable__control:checked~div.sk-toggleable__content {max-height: 200px;max-width: 100%;overflow: auto;}#sk-container-id-1 input.sk-toggleable__control:checked~label.sk-toggleable__label-arrow:before {content: \"▾\";}#sk-container-id-1 div.sk-estimator input.sk-toggleable__control:checked~label.sk-toggleable__label {background-color: #d4ebff;}#sk-container-id-1 div.sk-label input.sk-toggleable__control:checked~label.sk-toggleable__label {background-color: #d4ebff;}#sk-container-id-1 input.sk-hidden--visually {border: 0;clip: rect(1px 1px 1px 1px);clip: rect(1px, 1px, 1px, 1px);height: 1px;margin: -1px;overflow: hidden;padding: 0;position: absolute;width: 1px;}#sk-container-id-1 div.sk-estimator {font-family: monospace;background-color: #f0f8ff;border: 1px dotted black;border-radius: 0.25em;box-sizing: border-box;margin-bottom: 0.5em;}#sk-container-id-1 div.sk-estimator:hover {background-color: #d4ebff;}#sk-container-id-1 div.sk-parallel-item::after {content: \"\";width: 100%;border-bottom: 1px solid gray;flex-grow: 1;}#sk-container-id-1 div.sk-label:hover label.sk-toggleable__label {background-color: #d4ebff;}#sk-container-id-1 div.sk-serial::before {content: \"\";position: absolute;border-left: 1px solid gray;box-sizing: border-box;top: 0;bottom: 0;left: 50%;z-index: 0;}#sk-container-id-1 div.sk-serial {display: flex;flex-direction: column;align-items: center;background-color: white;padding-right: 0.2em;padding-left: 0.2em;position: relative;}#sk-container-id-1 div.sk-item {position: relative;z-index: 1;}#sk-container-id-1 div.sk-parallel {display: flex;align-items: stretch;justify-content: center;background-color: white;position: relative;}#sk-container-id-1 div.sk-item::before, #sk-container-id-1 div.sk-parallel-item::before {content: \"\";position: absolute;border-left: 1px solid gray;box-sizing: border-box;top: 0;bottom: 0;left: 50%;z-index: -1;}#sk-container-id-1 div.sk-parallel-item {display: flex;flex-direction: column;z-index: 1;position: relative;background-color: white;}#sk-container-id-1 div.sk-parallel-item:first-child::after {align-self: flex-end;width: 50%;}#sk-container-id-1 div.sk-parallel-item:last-child::after {align-self: flex-start;width: 50%;}#sk-container-id-1 div.sk-parallel-item:only-child::after {width: 0;}#sk-container-id-1 div.sk-dashed-wrapped {border: 1px dashed gray;margin: 0 0.4em 0.5em 0.4em;box-sizing: border-box;padding-bottom: 0.4em;background-color: white;}#sk-container-id-1 div.sk-label label {font-family: monospace;font-weight: bold;display: inline-block;line-height: 1.2em;}#sk-container-id-1 div.sk-label-container {text-align: center;}#sk-container-id-1 div.sk-container {/* jupyter's `normalize.less` sets `[hidden] { display: none; }` but bootstrap.min.css set `[hidden] { display: none !important; }` so we also need the `!important` here to be able to override the default hidden behavior on the sphinx rendered scikit-learn.org. See: https://github.com/scikit-learn/scikit-learn/issues/21755 */display: inline-block !important;position: relative;}#sk-container-id-1 div.sk-text-repr-fallback {display: none;}</style><div id=\"sk-container-id-1\" class=\"sk-top-container\"><div class=\"sk-text-repr-fallback\"><pre>LinearRegression()</pre><b>In a Jupyter environment, please rerun this cell to show the HTML representation or trust the notebook. <br />On GitHub, the HTML representation is unable to render, please try loading this page with nbviewer.org.</b></div><div class=\"sk-container\" hidden><div class=\"sk-item\"><div class=\"sk-estimator sk-toggleable\"><input class=\"sk-toggleable__control sk-hidden--visually\" id=\"sk-estimator-id-1\" type=\"checkbox\" checked><label for=\"sk-estimator-id-1\" class=\"sk-toggleable__label sk-toggleable__label-arrow\">LinearRegression</label><div class=\"sk-toggleable__content\"><pre>LinearRegression()</pre></div></div></div></div></div>"
            ]
          },
          "metadata": {},
          "execution_count": 11
        }
      ]
    },
    {
      "cell_type": "code",
      "source": [
        "y_pred = regression.predict(X_test)\n",
        "y_pred"
      ],
      "metadata": {
        "colab": {
          "base_uri": "https://localhost:8080/"
        },
        "id": "eDwPUUsGIq63",
        "outputId": "0e42c312-7292-475c-9568-3645683d95ba"
      },
      "execution_count": 12,
      "outputs": [
        {
          "output_type": "execute_result",
          "data": {
            "text/plain": [
              "array([1.68633108, 0.80208267, 1.95517341, ..., 1.82929915, 0.49921218,\n",
              "       1.48500168])"
            ]
          },
          "metadata": {},
          "execution_count": 12
        }
      ]
    },
    {
      "cell_type": "code",
      "source": [
        "df = pd.DataFrame({'Actual': y_test, 'Predicted': y_pred})\n",
        "df.head()"
      ],
      "metadata": {
        "colab": {
          "base_uri": "https://localhost:8080/",
          "height": 206
        },
        "id": "4wEH040fIr0P",
        "outputId": "4c92a14a-44a6-49c9-b620-f9ab80a18651"
      },
      "execution_count": 13,
      "outputs": [
        {
          "output_type": "execute_result",
          "data": {
            "text/plain": [
              "       Actual  Predicted\n",
              "17783    0.45   1.686331\n",
              "25579    0.14   0.802083\n",
              "13639    1.26   1.955173\n",
              "1885     1.11   2.037067\n",
              "15132    2.11   1.437957"
            ],
            "text/html": [
              "\n",
              "  <div id=\"df-546bd8c4-1fbd-4608-9067-0b87b6bd6b63\">\n",
              "    <div class=\"colab-df-container\">\n",
              "      <div>\n",
              "<style scoped>\n",
              "    .dataframe tbody tr th:only-of-type {\n",
              "        vertical-align: middle;\n",
              "    }\n",
              "\n",
              "    .dataframe tbody tr th {\n",
              "        vertical-align: top;\n",
              "    }\n",
              "\n",
              "    .dataframe thead th {\n",
              "        text-align: right;\n",
              "    }\n",
              "</style>\n",
              "<table border=\"1\" class=\"dataframe\">\n",
              "  <thead>\n",
              "    <tr style=\"text-align: right;\">\n",
              "      <th></th>\n",
              "      <th>Actual</th>\n",
              "      <th>Predicted</th>\n",
              "    </tr>\n",
              "  </thead>\n",
              "  <tbody>\n",
              "    <tr>\n",
              "      <th>17783</th>\n",
              "      <td>0.45</td>\n",
              "      <td>1.686331</td>\n",
              "    </tr>\n",
              "    <tr>\n",
              "      <th>25579</th>\n",
              "      <td>0.14</td>\n",
              "      <td>0.802083</td>\n",
              "    </tr>\n",
              "    <tr>\n",
              "      <th>13639</th>\n",
              "      <td>1.26</td>\n",
              "      <td>1.955173</td>\n",
              "    </tr>\n",
              "    <tr>\n",
              "      <th>1885</th>\n",
              "      <td>1.11</td>\n",
              "      <td>2.037067</td>\n",
              "    </tr>\n",
              "    <tr>\n",
              "      <th>15132</th>\n",
              "      <td>2.11</td>\n",
              "      <td>1.437957</td>\n",
              "    </tr>\n",
              "  </tbody>\n",
              "</table>\n",
              "</div>\n",
              "      <button class=\"colab-df-convert\" onclick=\"convertToInteractive('df-546bd8c4-1fbd-4608-9067-0b87b6bd6b63')\"\n",
              "              title=\"Convert this dataframe to an interactive table.\"\n",
              "              style=\"display:none;\">\n",
              "        \n",
              "  <svg xmlns=\"http://www.w3.org/2000/svg\" height=\"24px\"viewBox=\"0 0 24 24\"\n",
              "       width=\"24px\">\n",
              "    <path d=\"M0 0h24v24H0V0z\" fill=\"none\"/>\n",
              "    <path d=\"M18.56 5.44l.94 2.06.94-2.06 2.06-.94-2.06-.94-.94-2.06-.94 2.06-2.06.94zm-11 1L8.5 8.5l.94-2.06 2.06-.94-2.06-.94L8.5 2.5l-.94 2.06-2.06.94zm10 10l.94 2.06.94-2.06 2.06-.94-2.06-.94-.94-2.06-.94 2.06-2.06.94z\"/><path d=\"M17.41 7.96l-1.37-1.37c-.4-.4-.92-.59-1.43-.59-.52 0-1.04.2-1.43.59L10.3 9.45l-7.72 7.72c-.78.78-.78 2.05 0 2.83L4 21.41c.39.39.9.59 1.41.59.51 0 1.02-.2 1.41-.59l7.78-7.78 2.81-2.81c.8-.78.8-2.07 0-2.86zM5.41 20L4 18.59l7.72-7.72 1.47 1.35L5.41 20z\"/>\n",
              "  </svg>\n",
              "      </button>\n",
              "      \n",
              "  <style>\n",
              "    .colab-df-container {\n",
              "      display:flex;\n",
              "      flex-wrap:wrap;\n",
              "      gap: 12px;\n",
              "    }\n",
              "\n",
              "    .colab-df-convert {\n",
              "      background-color: #E8F0FE;\n",
              "      border: none;\n",
              "      border-radius: 50%;\n",
              "      cursor: pointer;\n",
              "      display: none;\n",
              "      fill: #1967D2;\n",
              "      height: 32px;\n",
              "      padding: 0 0 0 0;\n",
              "      width: 32px;\n",
              "    }\n",
              "\n",
              "    .colab-df-convert:hover {\n",
              "      background-color: #E2EBFA;\n",
              "      box-shadow: 0px 1px 2px rgba(60, 64, 67, 0.3), 0px 1px 3px 1px rgba(60, 64, 67, 0.15);\n",
              "      fill: #174EA6;\n",
              "    }\n",
              "\n",
              "    [theme=dark] .colab-df-convert {\n",
              "      background-color: #3B4455;\n",
              "      fill: #D2E3FC;\n",
              "    }\n",
              "\n",
              "    [theme=dark] .colab-df-convert:hover {\n",
              "      background-color: #434B5C;\n",
              "      box-shadow: 0px 1px 3px 1px rgba(0, 0, 0, 0.15);\n",
              "      filter: drop-shadow(0px 1px 2px rgba(0, 0, 0, 0.3));\n",
              "      fill: #FFFFFF;\n",
              "    }\n",
              "  </style>\n",
              "\n",
              "      <script>\n",
              "        const buttonEl =\n",
              "          document.querySelector('#df-546bd8c4-1fbd-4608-9067-0b87b6bd6b63 button.colab-df-convert');\n",
              "        buttonEl.style.display =\n",
              "          google.colab.kernel.accessAllowed ? 'block' : 'none';\n",
              "\n",
              "        async function convertToInteractive(key) {\n",
              "          const element = document.querySelector('#df-546bd8c4-1fbd-4608-9067-0b87b6bd6b63');\n",
              "          const dataTable =\n",
              "            await google.colab.kernel.invokeFunction('convertToInteractive',\n",
              "                                                     [key], {});\n",
              "          if (!dataTable) return;\n",
              "\n",
              "          const docLinkHtml = 'Like what you see? Visit the ' +\n",
              "            '<a target=\"_blank\" href=https://colab.research.google.com/notebooks/data_table.ipynb>data table notebook</a>'\n",
              "            + ' to learn more about interactive tables.';\n",
              "          element.innerHTML = '';\n",
              "          dataTable['output_type'] = 'display_data';\n",
              "          await google.colab.output.renderOutput(dataTable, element);\n",
              "          const docLink = document.createElement('div');\n",
              "          docLink.innerHTML = docLinkHtml;\n",
              "          element.appendChild(docLink);\n",
              "        }\n",
              "      </script>\n",
              "    </div>\n",
              "  </div>\n",
              "  "
            ]
          },
          "metadata": {},
          "execution_count": 13
        }
      ]
    },
    {
      "cell_type": "code",
      "source": [
        "regression.score(X_test, y_test)"
      ],
      "metadata": {
        "colab": {
          "base_uri": "https://localhost:8080/"
        },
        "id": "9_Or1Hl1ItF4",
        "outputId": "e92a7dcd-6c8b-489f-9933-130dcae27780"
      },
      "execution_count": 14,
      "outputs": [
        {
          "output_type": "execute_result",
          "data": {
            "text/plain": [
              "0.1724605666596547"
            ]
          },
          "metadata": {},
          "execution_count": 14
        }
      ]
    },
    {
      "cell_type": "markdown",
      "source": [
        "### **Removing features with low variance method (the winner)**"
      ],
      "metadata": {
        "id": "A-pWoQynNXhP"
      }
    },
    {
      "cell_type": "code",
      "source": [
        "from sklearn.feature_selection import VarianceThreshold"
      ],
      "metadata": {
        "id": "T3EOVmXPJFwC"
      },
      "execution_count": 15,
      "outputs": []
    },
    {
      "cell_type": "code",
      "source": [
        "#get the variance for each column\n",
        "variances = X.var()\n",
        "\n",
        "# make selector \n",
        "selector = VarianceThreshold(threshold=5)\n",
        "\n",
        "selector.fit(X_train)\n",
        "\n",
        "# select the features \n",
        "selected_features = X.columns[selector.get_support()]\n",
        "\n",
        "# printing the variance for every feature\n",
        "print(\"Selected Features and Variance:\")\n",
        "for feature in selected_features:\n",
        "    print(feature,\": \",variances[feature])\n",
        "\n",
        "# inetialize new variables for the training and testing X to train the model on it\n",
        "X_train_selected = X_train[selected_features]\n",
        "X_test_selected = X_test[selected_features]\n",
        "\n",
        "# training the model again depending on the new subset\n",
        "regressor = LinearRegression()\n",
        "reg = regressor.fit(X_train_selected, y_train)"
      ],
      "metadata": {
        "colab": {
          "base_uri": "https://localhost:8080/"
        },
        "id": "_I9VNUr4JGvz",
        "outputId": "14a3e956-19ed-484a-efd5-12a11b63abe3"
      },
      "execution_count": 16,
      "outputs": [
        {
          "output_type": "stream",
          "name": "stdout",
          "text": [
            "Selected Features and Variance:\n",
            "VOLUME :  91358547240.11235\n",
            "TRADE_QTY :  21076797708.364723\n",
            "NO_OF_TRADES :  4386.546281686843\n",
            "BEST_ASK_QTY :  4546424799.745177\n",
            "BEST_BID_QTY :  10164342907.438026\n"
          ]
        }
      ]
    },
    {
      "cell_type": "code",
      "source": [
        "# Make predictions on the testing set\n",
        "y_pred = reg.predict(X_test_selected)"
      ],
      "metadata": {
        "id": "PTvozIyrJIYj"
      },
      "execution_count": 18,
      "outputs": []
    },
    {
      "cell_type": "code",
      "source": [
        "# Calculate the regression metrics\n",
        "mae_low_variance = mean_absolute_error(y_test, y_pred)\n",
        "mse_low_variance = mean_squared_error(y_test, y_pred)\n",
        "rmse_low_variance = mean_squared_error(y_test, y_pred, squared=False)\n",
        "r2_low_variance = r2_score(y_test, y_pred)\n",
        "\n",
        "# Print the regression metrics\n",
        "print(\"\\nRegression Metrics:\")\n",
        "print(\"MAE:\", mae_low_variance)\n",
        "print(\"MSE:\", mse_low_variance)\n",
        "print(\"RMSE:\", rmse_low_variance)\n",
        "print(\"R²:\", r2_low_variance)"
      ],
      "metadata": {
        "colab": {
          "base_uri": "https://localhost:8080/"
        },
        "id": "ZtOSqyRvJIqs",
        "outputId": "d1cc6726-9e92-49ee-b6de-35f61be93242"
      },
      "execution_count": 19,
      "outputs": [
        {
          "output_type": "stream",
          "name": "stdout",
          "text": [
            "\n",
            "Regression Metrics:\n",
            "MAE: 1.4897784003569476\n",
            "MSE: 16.586611136979535\n",
            "RMSE: 4.072666342456688\n",
            "R²: 0.16152980371780978\n"
          ]
        }
      ]
    },
    {
      "cell_type": "markdown",
      "source": [
        "### **SelectKBest method**"
      ],
      "metadata": {
        "id": "6e4Z6NZaN7SM"
      }
    },
    {
      "cell_type": "code",
      "source": [
        "from sklearn.feature_selection import SelectKBest, f_regression"
      ],
      "metadata": {
        "id": "vByuoiKGJL0j"
      },
      "execution_count": 20,
      "outputs": []
    },
    {
      "cell_type": "code",
      "source": [
        "X_train, X_test, y_train, y_test = train_test_split(X, y, test_size=0.1, random_state=0)\n",
        "\n",
        "# instantiate the feature selection model\n",
        "selector = SelectKBest(f_regression, k=8)\n",
        "\n",
        "# fit the model on the training data\n",
        "selector.fit(X_train, y_train)\n",
        "\n",
        "# transform the training and testing sets to keep only the selected features\n",
        "X_train_selected = selector.transform(X_train)\n",
        "X_test_selected = selector.transform(X_test)\n",
        "\n",
        "# train a linear regression model on the selected features\n",
        "model = LinearRegression()\n",
        "model.fit(X_train_selected, y_train)"
      ],
      "metadata": {
        "colab": {
          "base_uri": "https://localhost:8080/",
          "height": 74
        },
        "id": "V61nWLy-JMxr",
        "outputId": "4b026200-c6eb-4662-f892-10e78af51cde"
      },
      "execution_count": 21,
      "outputs": [
        {
          "output_type": "execute_result",
          "data": {
            "text/plain": [
              "LinearRegression()"
            ],
            "text/html": [
              "<style>#sk-container-id-2 {color: black;background-color: white;}#sk-container-id-2 pre{padding: 0;}#sk-container-id-2 div.sk-toggleable {background-color: white;}#sk-container-id-2 label.sk-toggleable__label {cursor: pointer;display: block;width: 100%;margin-bottom: 0;padding: 0.3em;box-sizing: border-box;text-align: center;}#sk-container-id-2 label.sk-toggleable__label-arrow:before {content: \"▸\";float: left;margin-right: 0.25em;color: #696969;}#sk-container-id-2 label.sk-toggleable__label-arrow:hover:before {color: black;}#sk-container-id-2 div.sk-estimator:hover label.sk-toggleable__label-arrow:before {color: black;}#sk-container-id-2 div.sk-toggleable__content {max-height: 0;max-width: 0;overflow: hidden;text-align: left;background-color: #f0f8ff;}#sk-container-id-2 div.sk-toggleable__content pre {margin: 0.2em;color: black;border-radius: 0.25em;background-color: #f0f8ff;}#sk-container-id-2 input.sk-toggleable__control:checked~div.sk-toggleable__content {max-height: 200px;max-width: 100%;overflow: auto;}#sk-container-id-2 input.sk-toggleable__control:checked~label.sk-toggleable__label-arrow:before {content: \"▾\";}#sk-container-id-2 div.sk-estimator input.sk-toggleable__control:checked~label.sk-toggleable__label {background-color: #d4ebff;}#sk-container-id-2 div.sk-label input.sk-toggleable__control:checked~label.sk-toggleable__label {background-color: #d4ebff;}#sk-container-id-2 input.sk-hidden--visually {border: 0;clip: rect(1px 1px 1px 1px);clip: rect(1px, 1px, 1px, 1px);height: 1px;margin: -1px;overflow: hidden;padding: 0;position: absolute;width: 1px;}#sk-container-id-2 div.sk-estimator {font-family: monospace;background-color: #f0f8ff;border: 1px dotted black;border-radius: 0.25em;box-sizing: border-box;margin-bottom: 0.5em;}#sk-container-id-2 div.sk-estimator:hover {background-color: #d4ebff;}#sk-container-id-2 div.sk-parallel-item::after {content: \"\";width: 100%;border-bottom: 1px solid gray;flex-grow: 1;}#sk-container-id-2 div.sk-label:hover label.sk-toggleable__label {background-color: #d4ebff;}#sk-container-id-2 div.sk-serial::before {content: \"\";position: absolute;border-left: 1px solid gray;box-sizing: border-box;top: 0;bottom: 0;left: 50%;z-index: 0;}#sk-container-id-2 div.sk-serial {display: flex;flex-direction: column;align-items: center;background-color: white;padding-right: 0.2em;padding-left: 0.2em;position: relative;}#sk-container-id-2 div.sk-item {position: relative;z-index: 1;}#sk-container-id-2 div.sk-parallel {display: flex;align-items: stretch;justify-content: center;background-color: white;position: relative;}#sk-container-id-2 div.sk-item::before, #sk-container-id-2 div.sk-parallel-item::before {content: \"\";position: absolute;border-left: 1px solid gray;box-sizing: border-box;top: 0;bottom: 0;left: 50%;z-index: -1;}#sk-container-id-2 div.sk-parallel-item {display: flex;flex-direction: column;z-index: 1;position: relative;background-color: white;}#sk-container-id-2 div.sk-parallel-item:first-child::after {align-self: flex-end;width: 50%;}#sk-container-id-2 div.sk-parallel-item:last-child::after {align-self: flex-start;width: 50%;}#sk-container-id-2 div.sk-parallel-item:only-child::after {width: 0;}#sk-container-id-2 div.sk-dashed-wrapped {border: 1px dashed gray;margin: 0 0.4em 0.5em 0.4em;box-sizing: border-box;padding-bottom: 0.4em;background-color: white;}#sk-container-id-2 div.sk-label label {font-family: monospace;font-weight: bold;display: inline-block;line-height: 1.2em;}#sk-container-id-2 div.sk-label-container {text-align: center;}#sk-container-id-2 div.sk-container {/* jupyter's `normalize.less` sets `[hidden] { display: none; }` but bootstrap.min.css set `[hidden] { display: none !important; }` so we also need the `!important` here to be able to override the default hidden behavior on the sphinx rendered scikit-learn.org. See: https://github.com/scikit-learn/scikit-learn/issues/21755 */display: inline-block !important;position: relative;}#sk-container-id-2 div.sk-text-repr-fallback {display: none;}</style><div id=\"sk-container-id-2\" class=\"sk-top-container\"><div class=\"sk-text-repr-fallback\"><pre>LinearRegression()</pre><b>In a Jupyter environment, please rerun this cell to show the HTML representation or trust the notebook. <br />On GitHub, the HTML representation is unable to render, please try loading this page with nbviewer.org.</b></div><div class=\"sk-container\" hidden><div class=\"sk-item\"><div class=\"sk-estimator sk-toggleable\"><input class=\"sk-toggleable__control sk-hidden--visually\" id=\"sk-estimator-id-2\" type=\"checkbox\" checked><label for=\"sk-estimator-id-2\" class=\"sk-toggleable__label sk-toggleable__label-arrow\">LinearRegression</label><div class=\"sk-toggleable__content\"><pre>LinearRegression()</pre></div></div></div></div></div>"
            ]
          },
          "metadata": {},
          "execution_count": 21
        }
      ]
    },
    {
      "cell_type": "code",
      "source": [
        "# make predictions on the testing set\n",
        "y_pred = model.predict(X_test_selected)"
      ],
      "metadata": {
        "id": "NRkPp-lJJOuj"
      },
      "execution_count": 22,
      "outputs": []
    },
    {
      "cell_type": "code",
      "source": [
        "# calculate regression metrics\n",
        "mae_KBest = mean_absolute_error(y_test, y_pred)\n",
        "mse_KBest = mean_squared_error(y_test, y_pred)\n",
        "rmse_KBest = mean_squared_error(y_test, y_pred, squared=False)\n",
        "r2_KBest = r2_score(y_test, y_pred)\n",
        "\n",
        "# print the selected features and regression metrics\n",
        "print(\"Selected features:\", X.columns[selector.get_support()])\n",
        "print(\"MAE:\", mae_KBest)\n",
        "print(\"MSE:\", mse_KBest)\n",
        "print(\"RMSE:\", rmse_KBest)\n",
        "print(\"R2:\", r2_KBest)"
      ],
      "metadata": {
        "colab": {
          "base_uri": "https://localhost:8080/"
        },
        "id": "6-kNhLLsJP7k",
        "outputId": "d39817bc-cbf1-4791-b565-68c367244fbf"
      },
      "execution_count": 23,
      "outputs": [
        {
          "output_type": "stream",
          "name": "stdout",
          "text": [
            "Selected features: Index(['MARKET', 'VOLUME', 'TRADE_QTY', 'NO_OF_TRADES', 'BEST_ASK_PRICE',\n",
            "       'BEST_ASK_QTY', 'BEST_BID_PRICE', 'BEST_BID_QTY'],\n",
            "      dtype='object')\n",
            "MAE: 1.4912998699981772\n",
            "MSE: 16.370378866410114\n",
            "RMSE: 4.046032484596498\n",
            "R2: 0.1724605666596547\n"
          ]
        }
      ]
    },
    {
      "cell_type": "markdown",
      "source": [
        "### **Sequential Feature Selection method**"
      ],
      "metadata": {
        "id": "NwGeOlS3ODiC"
      }
    },
    {
      "cell_type": "code",
      "source": [
        "from sklearn.feature_selection import SequentialFeatureSelector"
      ],
      "metadata": {
        "id": "2kJl6fp0JSz9"
      },
      "execution_count": 24,
      "outputs": []
    },
    {
      "cell_type": "code",
      "source": [
        "# spliting the dataset to training and testing \n",
        "X_train, X_test, y_train, y_test = train_test_split(X, y, test_size=0.1, random_state=0)\n",
        "\n",
        "# using the Sequential Feature Selection method to filter owr dataset\n",
        "sfs = SequentialFeatureSelector(model, n_features_to_select=6, direction='forward') #forward\n",
        "sfs.fit(X_train, y_train)\n",
        "\n",
        "\n",
        "selected_features = X.columns[sfs.get_support()] # returns true of false depending on the chosen features\n",
        "print(\"Selected features:\", selected_features)\n",
        "\n",
        "# editing the X_train and testing to make it work on the chosen features\n",
        "X_train_selected = sfs.transform(X_train)\n",
        "X_test_selected = sfs.transform(X_test)\n",
        "\n",
        "# train the model\n",
        "model = LinearRegression()\n",
        "model.fit(X_train_selected, y_train)"
      ],
      "metadata": {
        "colab": {
          "base_uri": "https://localhost:8080/",
          "height": 129
        },
        "id": "qw5D8Ps8JT4t",
        "outputId": "829603cc-dda8-4f37-bf35-3b26b18b120a"
      },
      "execution_count": 25,
      "outputs": [
        {
          "output_type": "stream",
          "name": "stdout",
          "text": [
            "Selected features: Index(['MARKET', 'VOLUME', 'TRADE_QTY', 'NO_OF_TRADES', 'BEST_ASK_PRICE',\n",
            "       'BEST_ASK_QTY'],\n",
            "      dtype='object')\n"
          ]
        },
        {
          "output_type": "execute_result",
          "data": {
            "text/plain": [
              "LinearRegression()"
            ],
            "text/html": [
              "<style>#sk-container-id-3 {color: black;background-color: white;}#sk-container-id-3 pre{padding: 0;}#sk-container-id-3 div.sk-toggleable {background-color: white;}#sk-container-id-3 label.sk-toggleable__label {cursor: pointer;display: block;width: 100%;margin-bottom: 0;padding: 0.3em;box-sizing: border-box;text-align: center;}#sk-container-id-3 label.sk-toggleable__label-arrow:before {content: \"▸\";float: left;margin-right: 0.25em;color: #696969;}#sk-container-id-3 label.sk-toggleable__label-arrow:hover:before {color: black;}#sk-container-id-3 div.sk-estimator:hover label.sk-toggleable__label-arrow:before {color: black;}#sk-container-id-3 div.sk-toggleable__content {max-height: 0;max-width: 0;overflow: hidden;text-align: left;background-color: #f0f8ff;}#sk-container-id-3 div.sk-toggleable__content pre {margin: 0.2em;color: black;border-radius: 0.25em;background-color: #f0f8ff;}#sk-container-id-3 input.sk-toggleable__control:checked~div.sk-toggleable__content {max-height: 200px;max-width: 100%;overflow: auto;}#sk-container-id-3 input.sk-toggleable__control:checked~label.sk-toggleable__label-arrow:before {content: \"▾\";}#sk-container-id-3 div.sk-estimator input.sk-toggleable__control:checked~label.sk-toggleable__label {background-color: #d4ebff;}#sk-container-id-3 div.sk-label input.sk-toggleable__control:checked~label.sk-toggleable__label {background-color: #d4ebff;}#sk-container-id-3 input.sk-hidden--visually {border: 0;clip: rect(1px 1px 1px 1px);clip: rect(1px, 1px, 1px, 1px);height: 1px;margin: -1px;overflow: hidden;padding: 0;position: absolute;width: 1px;}#sk-container-id-3 div.sk-estimator {font-family: monospace;background-color: #f0f8ff;border: 1px dotted black;border-radius: 0.25em;box-sizing: border-box;margin-bottom: 0.5em;}#sk-container-id-3 div.sk-estimator:hover {background-color: #d4ebff;}#sk-container-id-3 div.sk-parallel-item::after {content: \"\";width: 100%;border-bottom: 1px solid gray;flex-grow: 1;}#sk-container-id-3 div.sk-label:hover label.sk-toggleable__label {background-color: #d4ebff;}#sk-container-id-3 div.sk-serial::before {content: \"\";position: absolute;border-left: 1px solid gray;box-sizing: border-box;top: 0;bottom: 0;left: 50%;z-index: 0;}#sk-container-id-3 div.sk-serial {display: flex;flex-direction: column;align-items: center;background-color: white;padding-right: 0.2em;padding-left: 0.2em;position: relative;}#sk-container-id-3 div.sk-item {position: relative;z-index: 1;}#sk-container-id-3 div.sk-parallel {display: flex;align-items: stretch;justify-content: center;background-color: white;position: relative;}#sk-container-id-3 div.sk-item::before, #sk-container-id-3 div.sk-parallel-item::before {content: \"\";position: absolute;border-left: 1px solid gray;box-sizing: border-box;top: 0;bottom: 0;left: 50%;z-index: -1;}#sk-container-id-3 div.sk-parallel-item {display: flex;flex-direction: column;z-index: 1;position: relative;background-color: white;}#sk-container-id-3 div.sk-parallel-item:first-child::after {align-self: flex-end;width: 50%;}#sk-container-id-3 div.sk-parallel-item:last-child::after {align-self: flex-start;width: 50%;}#sk-container-id-3 div.sk-parallel-item:only-child::after {width: 0;}#sk-container-id-3 div.sk-dashed-wrapped {border: 1px dashed gray;margin: 0 0.4em 0.5em 0.4em;box-sizing: border-box;padding-bottom: 0.4em;background-color: white;}#sk-container-id-3 div.sk-label label {font-family: monospace;font-weight: bold;display: inline-block;line-height: 1.2em;}#sk-container-id-3 div.sk-label-container {text-align: center;}#sk-container-id-3 div.sk-container {/* jupyter's `normalize.less` sets `[hidden] { display: none; }` but bootstrap.min.css set `[hidden] { display: none !important; }` so we also need the `!important` here to be able to override the default hidden behavior on the sphinx rendered scikit-learn.org. See: https://github.com/scikit-learn/scikit-learn/issues/21755 */display: inline-block !important;position: relative;}#sk-container-id-3 div.sk-text-repr-fallback {display: none;}</style><div id=\"sk-container-id-3\" class=\"sk-top-container\"><div class=\"sk-text-repr-fallback\"><pre>LinearRegression()</pre><b>In a Jupyter environment, please rerun this cell to show the HTML representation or trust the notebook. <br />On GitHub, the HTML representation is unable to render, please try loading this page with nbviewer.org.</b></div><div class=\"sk-container\" hidden><div class=\"sk-item\"><div class=\"sk-estimator sk-toggleable\"><input class=\"sk-toggleable__control sk-hidden--visually\" id=\"sk-estimator-id-3\" type=\"checkbox\" checked><label for=\"sk-estimator-id-3\" class=\"sk-toggleable__label sk-toggleable__label-arrow\">LinearRegression</label><div class=\"sk-toggleable__content\"><pre>LinearRegression()</pre></div></div></div></div></div>"
            ]
          },
          "metadata": {},
          "execution_count": 25
        }
      ]
    },
    {
      "cell_type": "code",
      "source": [
        "y_pred = model.predict(X_test_selected)"
      ],
      "metadata": {
        "id": "4qjyuWEaJVYM"
      },
      "execution_count": 26,
      "outputs": []
    },
    {
      "cell_type": "code",
      "source": [
        "# Calculate the regression metrics\n",
        "mae_Sequential_Feature = mean_absolute_error(y_test, y_pred)\n",
        "mse_Sequential_Feature = mean_squared_error(y_test, y_pred)\n",
        "rmse_Sequential_Feature = mean_squared_error(y_test, y_pred, squared=False)\n",
        "r2_Sequential_Feature = r2_score(y_test, y_pred)\n",
        "\n",
        "print(\"Regression Metrics:\")\n",
        "print(\"MAE:\", round(mae_Sequential_Feature, 3))\n",
        "print(\"MSE:\", round(mse_Sequential_Feature, 3))\n",
        "print(\"RMSE:\", round(rmse_Sequential_Feature, 3))\n",
        "print(\"R²:\", round(r2_Sequential_Feature, 3))"
      ],
      "metadata": {
        "colab": {
          "base_uri": "https://localhost:8080/"
        },
        "id": "KGS0UTL7JWhk",
        "outputId": "6dd23529-16f3-476e-d900-d3b65e264b79"
      },
      "execution_count": 27,
      "outputs": [
        {
          "output_type": "stream",
          "name": "stdout",
          "text": [
            "Regression Metrics:\n",
            "MAE: 1.48\n",
            "MSE: 16.407\n",
            "RMSE: 4.05\n",
            "R²: 0.171\n"
          ]
        }
      ]
    },
    {
      "cell_type": "markdown",
      "source": [
        "### ***Testing the results***"
      ],
      "metadata": {
        "id": "ZtkJvjOBJl0e"
      }
    },
    {
      "cell_type": "code",
      "source": [
        "df_comparing = pd.DataFrame({'method': ['low variance', 'SelectKBest', 'Sequential Feature'],\n",
        "                            'R2': [r2_low_variance, r2_KBest, r2_Sequential_Feature],\n",
        "                            'MAE': [mae_low_variance, mae_KBest, mae_Sequential_Feature],\n",
        "                            'MSE': [mse_low_variance, mse_KBest, mse_Sequential_Feature],\n",
        "                            'RMSE': [rmse_low_variance, rmse_KBest, rmse_Sequential_Feature]})\n",
        "df_comparing"
      ],
      "metadata": {
        "colab": {
          "base_uri": "https://localhost:8080/",
          "height": 143
        },
        "id": "MrjA4_5BJYVd",
        "outputId": "a951cccc-5b37-40b8-893d-92950c3d3a25"
      },
      "execution_count": 28,
      "outputs": [
        {
          "output_type": "execute_result",
          "data": {
            "text/plain": [
              "               method        R2       MAE        MSE      RMSE\n",
              "0        low variance  0.161530  1.489778  16.586611  4.072666\n",
              "1         SelectKBest  0.172461  1.491300  16.370379  4.046032\n",
              "2  Sequential Feature  0.170634  1.479522  16.406506  4.050494"
            ],
            "text/html": [
              "\n",
              "  <div id=\"df-248ff00c-0162-4f0b-b586-e8e754b6a42e\">\n",
              "    <div class=\"colab-df-container\">\n",
              "      <div>\n",
              "<style scoped>\n",
              "    .dataframe tbody tr th:only-of-type {\n",
              "        vertical-align: middle;\n",
              "    }\n",
              "\n",
              "    .dataframe tbody tr th {\n",
              "        vertical-align: top;\n",
              "    }\n",
              "\n",
              "    .dataframe thead th {\n",
              "        text-align: right;\n",
              "    }\n",
              "</style>\n",
              "<table border=\"1\" class=\"dataframe\">\n",
              "  <thead>\n",
              "    <tr style=\"text-align: right;\">\n",
              "      <th></th>\n",
              "      <th>method</th>\n",
              "      <th>R2</th>\n",
              "      <th>MAE</th>\n",
              "      <th>MSE</th>\n",
              "      <th>RMSE</th>\n",
              "    </tr>\n",
              "  </thead>\n",
              "  <tbody>\n",
              "    <tr>\n",
              "      <th>0</th>\n",
              "      <td>low variance</td>\n",
              "      <td>0.161530</td>\n",
              "      <td>1.489778</td>\n",
              "      <td>16.586611</td>\n",
              "      <td>4.072666</td>\n",
              "    </tr>\n",
              "    <tr>\n",
              "      <th>1</th>\n",
              "      <td>SelectKBest</td>\n",
              "      <td>0.172461</td>\n",
              "      <td>1.491300</td>\n",
              "      <td>16.370379</td>\n",
              "      <td>4.046032</td>\n",
              "    </tr>\n",
              "    <tr>\n",
              "      <th>2</th>\n",
              "      <td>Sequential Feature</td>\n",
              "      <td>0.170634</td>\n",
              "      <td>1.479522</td>\n",
              "      <td>16.406506</td>\n",
              "      <td>4.050494</td>\n",
              "    </tr>\n",
              "  </tbody>\n",
              "</table>\n",
              "</div>\n",
              "      <button class=\"colab-df-convert\" onclick=\"convertToInteractive('df-248ff00c-0162-4f0b-b586-e8e754b6a42e')\"\n",
              "              title=\"Convert this dataframe to an interactive table.\"\n",
              "              style=\"display:none;\">\n",
              "        \n",
              "  <svg xmlns=\"http://www.w3.org/2000/svg\" height=\"24px\"viewBox=\"0 0 24 24\"\n",
              "       width=\"24px\">\n",
              "    <path d=\"M0 0h24v24H0V0z\" fill=\"none\"/>\n",
              "    <path d=\"M18.56 5.44l.94 2.06.94-2.06 2.06-.94-2.06-.94-.94-2.06-.94 2.06-2.06.94zm-11 1L8.5 8.5l.94-2.06 2.06-.94-2.06-.94L8.5 2.5l-.94 2.06-2.06.94zm10 10l.94 2.06.94-2.06 2.06-.94-2.06-.94-.94-2.06-.94 2.06-2.06.94z\"/><path d=\"M17.41 7.96l-1.37-1.37c-.4-.4-.92-.59-1.43-.59-.52 0-1.04.2-1.43.59L10.3 9.45l-7.72 7.72c-.78.78-.78 2.05 0 2.83L4 21.41c.39.39.9.59 1.41.59.51 0 1.02-.2 1.41-.59l7.78-7.78 2.81-2.81c.8-.78.8-2.07 0-2.86zM5.41 20L4 18.59l7.72-7.72 1.47 1.35L5.41 20z\"/>\n",
              "  </svg>\n",
              "      </button>\n",
              "      \n",
              "  <style>\n",
              "    .colab-df-container {\n",
              "      display:flex;\n",
              "      flex-wrap:wrap;\n",
              "      gap: 12px;\n",
              "    }\n",
              "\n",
              "    .colab-df-convert {\n",
              "      background-color: #E8F0FE;\n",
              "      border: none;\n",
              "      border-radius: 50%;\n",
              "      cursor: pointer;\n",
              "      display: none;\n",
              "      fill: #1967D2;\n",
              "      height: 32px;\n",
              "      padding: 0 0 0 0;\n",
              "      width: 32px;\n",
              "    }\n",
              "\n",
              "    .colab-df-convert:hover {\n",
              "      background-color: #E2EBFA;\n",
              "      box-shadow: 0px 1px 2px rgba(60, 64, 67, 0.3), 0px 1px 3px 1px rgba(60, 64, 67, 0.15);\n",
              "      fill: #174EA6;\n",
              "    }\n",
              "\n",
              "    [theme=dark] .colab-df-convert {\n",
              "      background-color: #3B4455;\n",
              "      fill: #D2E3FC;\n",
              "    }\n",
              "\n",
              "    [theme=dark] .colab-df-convert:hover {\n",
              "      background-color: #434B5C;\n",
              "      box-shadow: 0px 1px 3px 1px rgba(0, 0, 0, 0.15);\n",
              "      filter: drop-shadow(0px 1px 2px rgba(0, 0, 0, 0.3));\n",
              "      fill: #FFFFFF;\n",
              "    }\n",
              "  </style>\n",
              "\n",
              "      <script>\n",
              "        const buttonEl =\n",
              "          document.querySelector('#df-248ff00c-0162-4f0b-b586-e8e754b6a42e button.colab-df-convert');\n",
              "        buttonEl.style.display =\n",
              "          google.colab.kernel.accessAllowed ? 'block' : 'none';\n",
              "\n",
              "        async function convertToInteractive(key) {\n",
              "          const element = document.querySelector('#df-248ff00c-0162-4f0b-b586-e8e754b6a42e');\n",
              "          const dataTable =\n",
              "            await google.colab.kernel.invokeFunction('convertToInteractive',\n",
              "                                                     [key], {});\n",
              "          if (!dataTable) return;\n",
              "\n",
              "          const docLinkHtml = 'Like what you see? Visit the ' +\n",
              "            '<a target=\"_blank\" href=https://colab.research.google.com/notebooks/data_table.ipynb>data table notebook</a>'\n",
              "            + ' to learn more about interactive tables.';\n",
              "          element.innerHTML = '';\n",
              "          dataTable['output_type'] = 'display_data';\n",
              "          await google.colab.output.renderOutput(dataTable, element);\n",
              "          const docLink = document.createElement('div');\n",
              "          docLink.innerHTML = docLinkHtml;\n",
              "          element.appendChild(docLink);\n",
              "        }\n",
              "      </script>\n",
              "    </div>\n",
              "  </div>\n",
              "  "
            ]
          },
          "metadata": {},
          "execution_count": 28
        }
      ]
    },
    {
      "cell_type": "code",
      "source": [
        "sns.barplot(x='method', y = 'R2', data = df_comparing)"
      ],
      "metadata": {
        "colab": {
          "base_uri": "https://localhost:8080/",
          "height": 467
        },
        "id": "urlFLe70JZrU",
        "outputId": "a65ad0ca-0391-4cba-dab4-5b29f32a4a03"
      },
      "execution_count": 29,
      "outputs": [
        {
          "output_type": "execute_result",
          "data": {
            "text/plain": [
              "<Axes: xlabel='method', ylabel='R2'>"
            ]
          },
          "metadata": {},
          "execution_count": 29
        },
        {
          "output_type": "display_data",
          "data": {
            "text/plain": [
              "<Figure size 640x480 with 1 Axes>"
            ],
            "image/png": "[encoded data removed]"
          },
          "metadata": {}
        }
      ]
    }
  ]
}